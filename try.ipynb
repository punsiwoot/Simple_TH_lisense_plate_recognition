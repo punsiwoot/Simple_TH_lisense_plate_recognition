{
 "cells": [
  {
   "cell_type": "code",
   "execution_count": 5,
   "metadata": {},
   "outputs": [],
   "source": [
    "import cv2 as cv"
   ]
  },
  {
   "cell_type": "code",
   "execution_count": 2,
   "metadata": {},
   "outputs": [
    {
     "data": {
      "text/plain": [
       "'4.5.5'"
      ]
     },
     "execution_count": 2,
     "metadata": {},
     "output_type": "execute_result"
    }
   ],
   "source": [
    "cv.__version__"
   ]
  },
  {
   "cell_type": "code",
   "execution_count": 3,
   "metadata": {},
   "outputs": [
    {
     "name": "stdout",
     "output_type": "stream",
     "text": [
      "Number of detected license plates: 0\n"
     ]
    }
   ],
   "source": [
    "\n",
    "# # Read input image\n",
    "# img = cv.imread(\"test_image/front_1.jpg\", cv.IMREAD_GRAYSCALE)\n",
    "# img = cv.resize(img, [400,400])\n",
    "\n",
    "# # convert input image to grayscale\n",
    "# # gray = cv.cvtColor(img, cv.COLOR_BGR2RGB)\n",
    "# # edges = cv.Canny(img,100,200)\n",
    "\n",
    "# # read haarcascade for number plate detection\n",
    "# cascade = cv.CascadeClassifier('haarcascades\\haarcascade_russian_plate_number.xml')\n",
    "\n",
    "# # Detect license number plates\n",
    "# plates = cascade.detectMultiScale(img, 1.2, 5)\n",
    "# print('Number of detected license plates:', len(plates))\n",
    "\n",
    "# # loop over all plates\n",
    "# for (x,y,w,h) in plates:\n",
    "   \n",
    "#    # draw bounding rectangle around the license number plate\n",
    "#    cv.rectangle(img, (x,y), (x+w, y+h), (0,255,0), 2)\n",
    "#    gray_plates = edges[y:y+h, x:x+w]\n",
    "#    color_plates = img[y:y+h, x:x+w]\n",
    "   \n",
    "#    # save number plate detected\n",
    "#    cv.imwrite('Numberplate.jpg', gray_plates)\n",
    "#    cv.imshow('Number Plate', gray_plates)\n",
    "#    cv.imshow('Number Plate Image', img)\n",
    "#    cv.waitKey(0)\n",
    "# cv.destroyAllWindows()\n"
   ]
  },
  {
   "cell_type": "code",
   "execution_count": 3,
   "metadata": {},
   "outputs": [
    {
     "name": "stdout",
     "output_type": "stream",
     "text": [
      "num of box : 74\n",
      "2\n"
     ]
    },
    {
     "data": {
      "text/plain": [
       "-1"
      ]
     },
     "execution_count": 3,
     "metadata": {},
     "output_type": "execute_result"
    }
   ],
   "source": [
    "import cv2\n",
    "from PIL import Image, ImageFilter\n",
    "\n",
    "image = cv2.imread('My_dataset/test_img_raw/6.jpg') # hard [4 40 44 38(stuck) 27 23   ]\n",
    "image = cv2.resize(image,[500,500])\n",
    "gray = cv2.cvtColor(image, cv2.COLOR_BGR2GRAY)\n",
    "\n",
    "blurred = cv2.GaussianBlur(gray, (5,5), 0)\n",
    "blurred = cv2.GaussianBlur(blurred, (3,3), 0)\n",
    "\n",
    "# blurred = cv2.GaussianBlur(blurred, (3,3), 0)\n",
    "# blurred = cv2.GaussianBlur(blurred, (3,3), 0)\n",
    "# blurred = cv2.GaussianBlur(blurred, (5,5), 0)\n",
    "# blurred = cv2.GaussianBlur(blurred, (5,5), 0)\n",
    "# blurred = cv2.GaussianBlur(blurred, (5,5), 0)\n",
    "# blurred = cv2.GaussianBlur(blurred, (5,5), 0)\n",
    "\n",
    "blur = cv2.GaussianBlur(gray, (0,0), sigmaX=2, sigmaY=2, borderType = cv2.BORDER_DEFAULT)\n",
    "# blur_2 = cv2.blur(gray,(5,5))\n",
    "\n",
    "canny = cv2.Canny(blur, 60, 100)\n",
    "# canny_2 = cv2.Canny(blur_2, 60, 100)\n",
    "# cv.imshow('show',canny)\n",
    "# cv2.waitKey(0)\n",
    "\n",
    "\n",
    "# Find contours\n",
    "cnts = cv2.findContours(canny, cv2.RETR_EXTERNAL, cv2.CHAIN_APPROX_SIMPLE)\n",
    "cnts = cnts[0] if len(cnts) == 2 else cnts[1]\n",
    "\n",
    "# Iterate thorugh contours and draw rectangles around contours\n",
    "print(f\"num of box : {len(cnts)}\")\n",
    "count = 0\n",
    "for c in cnts:\n",
    "    x,y,w,h = cv2.boundingRect(c)\n",
    "    if (w>h) and (1.1<(w/h)<2.2) and (40<h<190):\n",
    "        count += 1\n",
    "        cv2.rectangle(image, (x, y), (x + w, y + h), (36,255,12), 2)\n",
    "    # cv2.rectangle(image, (x, y), (x + w, y + h), (36,255,12), 2)\n",
    "\n",
    "print(count)\n",
    "cv2.imshow('canny', canny)\n",
    "# cv2.imshow('canny_2', canny_2)\n",
    "\n",
    "cv2.imshow('image', image)\n",
    "cv2.imshow(\"blur\",blurred)\n",
    "cv2.waitKey(0)"
   ]
  },
  {
   "cell_type": "code",
   "execution_count": 1,
   "metadata": {},
   "outputs": [
    {
     "data": {
      "text/plain": [
       "True"
      ]
     },
     "execution_count": 1,
     "metadata": {},
     "output_type": "execute_result"
    }
   ],
   "source": [
    "from vision_function import local_plate\n",
    "import cv2 as cv\n",
    "coor,crop_img,img = local_plate(image_name='My_dataset/test_img_raw/1.jpg', input_form=\"PATH\")\n",
    "\n",
    "# pure_plate = crop_img[0]\n",
    "# cv.imwrite(\"pure_plate_22.jpg\", pure_plate)"
   ]
  },
  {
   "cell_type": "code",
   "execution_count": 9,
   "metadata": {},
   "outputs": [
    {
     "data": {
      "text/plain": [
       "-1"
      ]
     },
     "execution_count": 9,
     "metadata": {},
     "output_type": "execute_result"
    }
   ],
   "source": [
    "cv.imshow(\"show\",crop_img[0])\n",
    "cv.waitKey(0)"
   ]
  },
  {
   "cell_type": "code",
   "execution_count": 6,
   "metadata": {},
   "outputs": [],
   "source": [
    "# from vistion_function import local_plate"
   ]
  },
  {
   "cell_type": "code",
   "execution_count": 11,
   "metadata": {},
   "outputs": [
    {
     "data": {
      "text/plain": [
       "(113, 198, 3)"
      ]
     },
     "execution_count": 11,
     "metadata": {},
     "output_type": "execute_result"
    }
   ],
   "source": [
    "import cv2 as cv\n",
    "#get the number\n",
    "# pure_plate = cv.imread(\"pure_plate.jpg\")\n",
    "# pure_plate = cv.imread(\"crop_real_1.jpg\")\n",
    "pure_plate = cv.imread(\"crop_real_2.jpg\")\n",
    "\n",
    "\n",
    "\n",
    "pure_plate_char = pure_plate[:int(pure_plate.shape[0]*0.65),:]\n",
    "threshold_char = pure_plate_char.shape[0]*0.45\n",
    "\n",
    "pure_plate_province = pure_plate[int(pure_plate.shape[0]*0.65):,:]\n",
    "\n",
    "# pure_plate = cv.resize(pure_plate,[600,400])\n",
    "# blurred_pure_plate = cv.GaussianBlur(pure_plate_char, (5,5), 0)\n",
    "# blurred_pure_plate = cv.GaussianBlur(blurred_pure_plate, (5,5), 0)\n",
    "# blurred_pure_plate = cv.GaussianBlur(blurred_pure_plate, (3,3), 0)\n",
    "# blurred_pure_plate = cv.GaussianBlur(blurred_pure_plate, (3,3), 0)\n",
    "# blurred_pure_plate = cv.GaussianBlur(blurred_pure_plate, (3,3), 0)\n",
    "# blurred_pure_plate = cv.GaussianBlur(blurred_pure_plate, (3,3), 0)\n",
    "# blurred_pure_plate = cv.GaussianBlur(blurred_pure_plate, (3,3), 0)\n",
    "# blurred_pure_plate = cv.GaussianBlur(blurred_pure_plate, (3,3), 0)\n",
    "\n",
    "blurred_pure_plate = cv.GaussianBlur(pure_plate_char, (0,0), sigmaX=2, sigmaY=2, borderType = cv.BORDER_DEFAULT)\n",
    "\n",
    "canny_blurred_pure_plate = cv.Canny(blurred_pure_plate, 50, 100)\n",
    "find_front = cv.findContours(canny_blurred_pure_plate, cv.RETR_EXTERNAL, cv.CHAIN_APPROX_SIMPLE)\n",
    "find_front = find_front[0] if len(find_front) == 2 else find_front[1]\n",
    "count_pp = 0\n",
    "keep_coor_raw = []\n",
    "keep_coor = []\n",
    "for i in find_front:\n",
    "    x,y,w,h = cv.boundingRect(i)\n",
    "    if (h>w)and(h>threshold_char)and((h/w)<5):\n",
    "        count_pp += 1  \n",
    "        keep_coor_raw.append([x,y,w,h])\n",
    "        # cv.rectangle(pure_plate_char, (x, y), (x + w, y + h), (36,255,12), 2)\n",
    "keep_coor_raw.sort()\n",
    "if (len(keep_coor_raw)>=1):\n",
    "    keep_coor.append(keep_coor_raw[0])\n",
    "    for i in range(len(keep_coor_raw)-1):\n",
    "        i = i+1\n",
    "        if ((keep_coor_raw[i][0]-keep_coor_raw[i-1][0]) < 7 ):  # if it close togather\n",
    "            if (keep_coor_raw[i][2]>keep_coor_raw[i-1][2]):   # if it more wide\n",
    "                keep_coor[i-1] = keep_coor_raw[i]\n",
    "        else : keep_coor.append(keep_coor_raw[i])\n",
    "for i in keep_coor:\n",
    "    cv.rectangle(pure_plate_char, (i[0], i[1]), (i[0] + i[2], i[1] + i[3]), (36,255,12), 2)\n",
    "\n",
    "\n",
    "cv.imshow(\"show_char\",pure_plate_char)\n",
    "cv.imshow(\"show_province\",pure_plate_province)\n",
    "cv.waitKey(0)\n",
    "\n",
    "pure_plate.shape\n"
   ]
  },
  {
   "cell_type": "code",
   "execution_count": 3,
   "metadata": {},
   "outputs": [
    {
     "data": {
      "text/plain": [
       "[1, 1, 2, 3]"
      ]
     },
     "execution_count": 3,
     "metadata": {},
     "output_type": "execute_result"
    }
   ],
   "source": [
    "keep = [0,1,2,3]\n",
    "keep[0] = 1\n",
    "keep"
   ]
  },
  {
   "cell_type": "code",
   "execution_count": null,
   "metadata": {},
   "outputs": [],
   "source": []
  }
 ],
 "metadata": {
  "kernelspec": {
   "display_name": "Python 3",
   "language": "python",
   "name": "python3"
  },
  "language_info": {
   "codemirror_mode": {
    "name": "ipython",
    "version": 3
   },
   "file_extension": ".py",
   "mimetype": "text/x-python",
   "name": "python",
   "nbconvert_exporter": "python",
   "pygments_lexer": "ipython3",
   "version": "3.10.4"
  },
  "orig_nbformat": 4
 },
 "nbformat": 4,
 "nbformat_minor": 2
}
