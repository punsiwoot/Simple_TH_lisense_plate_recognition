{
 "cells": [
  {
   "cell_type": "code",
   "execution_count": 1,
   "metadata": {},
   "outputs": [],
   "source": [
    "import cv2 as cv"
   ]
  },
  {
   "cell_type": "code",
   "execution_count": 6,
   "metadata": {},
   "outputs": [
    {
     "name": "stdout",
     "output_type": "stream",
     "text": [
      "Number of detected license plates: 1\n"
     ]
    }
   ],
   "source": [
    "\n",
    "# Read input image\n",
    "img = cv.imread(\"test_image/front_1.jpg\")\n",
    "\n",
    "# convert input image to grayscale\n",
    "gray = cv.cvtColor(img, cv.COLOR_RGB2GRAY)\n",
    "\n",
    "# read haarcascade for number plate detection\n",
    "cascade = cv.CascadeClassifier('haarcascades\\haarcascade_russian_plate_number.xml')\n",
    "\n",
    "# Detect license number plates\n",
    "plates = cascade.detectMultiScale(gray, 1.2, 5)\n",
    "print('Number of detected license plates:', len(plates))\n",
    "\n",
    "# loop over all plates\n",
    "for (x,y,w,h) in plates:\n",
    "   \n",
    "   # draw bounding rectangle around the license number plate\n",
    "   cv.rectangle(img, (x,y), (x+w, y+h), (0,255,0), 2)\n",
    "   gray_plates = gray[y:y+h, x:x+w]\n",
    "   color_plates = img[y:y+h, x:x+w]\n",
    "   \n",
    "   # save number plate detected\n",
    "   cv.imwrite('Numberplate.jpg', gray_plates)\n",
    "   cv.imshow('Number Plate', gray_plates)\n",
    "   cv.imshow('Number Plate Image', img)\n",
    "   cv.waitKey(0)\n",
    "cv.destroyAllWindows()\n"
   ]
  },
  {
   "cell_type": "code",
   "execution_count": null,
   "metadata": {},
   "outputs": [],
   "source": []
  },
  {
   "cell_type": "code",
   "execution_count": 1,
   "metadata": {},
   "outputs": [],
   "source": [
    "import cv2\n",
    "\n",
    "# Read the image\n",
    "image = cv2.imread('test_image/front_1.jpg')\n",
    "\n",
    "# Check if the image was successfully loaded\n",
    "if image is not None:\n",
    "    # Image was loaded successfully, you can perform further operations here\n",
    "    cv2.imshow('Image', image)\n",
    "    cv2.waitKey(0)\n",
    "    cv2.destroyAllWindows()\n",
    "else:\n",
    "    print('Failed to load the image.')\n"
   ]
  },
  {
   "cell_type": "code",
   "execution_count": null,
   "metadata": {},
   "outputs": [],
   "source": []
  }
 ],
 "metadata": {
  "kernelspec": {
   "display_name": "Python 3",
   "language": "python",
   "name": "python3"
  },
  "language_info": {
   "codemirror_mode": {
    "name": "ipython",
    "version": 3
   },
   "file_extension": ".py",
   "mimetype": "text/x-python",
   "name": "python",
   "nbconvert_exporter": "python",
   "pygments_lexer": "ipython3",
   "version": "3.10.4"
  },
  "orig_nbformat": 4
 },
 "nbformat": 4,
 "nbformat_minor": 2
}
