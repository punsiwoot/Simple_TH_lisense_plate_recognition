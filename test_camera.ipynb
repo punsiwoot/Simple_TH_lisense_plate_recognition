{
 "cells": [
  {
   "cell_type": "code",
   "execution_count": 1,
   "metadata": {},
   "outputs": [],
   "source": [
    "# import cv2\n",
    "# from vision_function import local_plate\n"
   ]
  },
  {
   "cell_type": "code",
   "execution_count": 4,
   "metadata": {},
   "outputs": [
    {
     "name": "stdout",
     "output_type": "stream",
     "text": [
      "2.12.1\n"
     ]
    }
   ],
   "source": [
    "# import tensorflow as tf\n",
    "# import tensorflow.keras.layers as nn\n",
    "# print(tf.__version__)"
   ]
  },
  {
   "cell_type": "code",
   "execution_count": 1,
   "metadata": {},
   "outputs": [
    {
     "ename": "KeyboardInterrupt",
     "evalue": "",
     "output_type": "error",
     "traceback": [
      "\u001b[1;31m---------------------------------------------------------------------------\u001b[0m",
      "\u001b[1;31mKeyboardInterrupt\u001b[0m                         Traceback (most recent call last)",
      "\u001b[1;32mc:\\Users\\User\\code field\\Project\\Simple_TH_lisense_plate_recognition\\test_camera.ipynb Cell 3\u001b[0m in \u001b[0;36m<cell line: 12>\u001b[1;34m()\u001b[0m\n\u001b[0;32m     <a href='vscode-notebook-cell:/c%3A/Users/User/code%20field/Project/Simple_TH_lisense_plate_recognition/test_camera.ipynb#W2sZmlsZQ%3D%3D?line=10'>11</a>\u001b[0m \u001b[39mwhile\u001b[39;00m(\u001b[39mTrue\u001b[39;00m):\n\u001b[0;32m     <a href='vscode-notebook-cell:/c%3A/Users/User/code%20field/Project/Simple_TH_lisense_plate_recognition/test_camera.ipynb#W2sZmlsZQ%3D%3D?line=11'>12</a>\u001b[0m     start \u001b[39m=\u001b[39m time\u001b[39m.\u001b[39mtime()\n\u001b[1;32m---> <a href='vscode-notebook-cell:/c%3A/Users/User/code%20field/Project/Simple_TH_lisense_plate_recognition/test_camera.ipynb#W2sZmlsZQ%3D%3D?line=12'>13</a>\u001b[0m     ret, frame \u001b[39m=\u001b[39m vid\u001b[39m.\u001b[39;49mread()\n\u001b[0;32m     <a href='vscode-notebook-cell:/c%3A/Users/User/code%20field/Project/Simple_TH_lisense_plate_recognition/test_camera.ipynb#W2sZmlsZQ%3D%3D?line=13'>14</a>\u001b[0m     coor,crop_img,frame \u001b[39m=\u001b[39m local_plate(frame,\u001b[39m\"\u001b[39m\u001b[39mIMG\u001b[39m\u001b[39m\"\u001b[39m,DCN_filter \u001b[39m=\u001b[39m \u001b[39mTrue\u001b[39;00m,Model \u001b[39m=\u001b[39m mlpc)\n\u001b[0;32m     <a href='vscode-notebook-cell:/c%3A/Users/User/code%20field/Project/Simple_TH_lisense_plate_recognition/test_camera.ipynb#W2sZmlsZQ%3D%3D?line=14'>15</a>\u001b[0m     \u001b[39mfor\u001b[39;00m i \u001b[39min\u001b[39;00m coor :\n",
      "\u001b[1;31mKeyboardInterrupt\u001b[0m: "
     ]
    },
    {
     "ename": "",
     "evalue": "",
     "output_type": "error",
     "traceback": [
      "\u001b[1;31mThe Kernel crashed while executing code in the the current cell or a previous cell. Please review the code in the cell(s) to identify a possible cause of the failure. Click <a href='https://aka.ms/vscodeJupyterKernelCrash'>here</a> for more info. View Jupyter <a href='command:jupyter.viewOutput'>log</a> for further details."
     ]
    }
   ],
   "source": [
    "import cv2\n",
    "from vision_function import *\n",
    "# import tensorflow as tf\n",
    "# import tensorflow.keras.layers as nn\n",
    "import time\n",
    "\n",
    "#set up \n",
    "mlpc = get_model_mlpc() #define model lisense correct\n",
    "vid = cv2.VideoCapture(0, cv2.CAP_DSHOW) #define capture obj\n",
    "\n",
    "while(True):\n",
    "    start = time.time()\n",
    "    ret, frame = vid.read()\n",
    "    coor,crop_img,frame = local_plate(frame,\"IMG\",DCN_filter = True,Model = mlpc)\n",
    "    for i in coor :\n",
    "        cv2.rectangle(frame, (i[2], i[3]), (i[2] + i[0], i[3] + i[1]), (36, 255, 12), 2)   #x y w h 0 1 2 3    w h x y 0 1 2 3 -- 2 3 0 1\n",
    "    \n",
    "    # Display the resulting frame\n",
    "    stop = time.time()\n",
    "    try : frame_rate = 1/(stop-start)\n",
    "    except : frame_rate = \"inf\"\n",
    "    frame = cv2.putText(frame, str(frame_rate), (50,50), cv2.FONT_HERSHEY_SIMPLEX, \n",
    "                   1, (0, 255, 0), 2, cv2.LINE_AA)\n",
    "    cv2.imshow('frame', frame)\n",
    "    \n",
    "    # if len(crop_img)>=1:\n",
    "        # cv2.imwrite(\"crop_real_3.jpg\",crop_img[0])\n",
    "    \n",
    "    # the 'q' button is set as the\n",
    "    # quitting button you may use any\n",
    "    # desired button of your choice\n",
    "    if cv2.waitKey(1) & 0xFF == ord('q'):\n",
    "        break\n",
    "\n",
    "# After the loop release the cap object\n",
    "vid.release()\n",
    "# Destroy all the windows\n",
    "cv2.destroyAllWindows()\n"
   ]
  },
  {
   "cell_type": "code",
   "execution_count": 18,
   "metadata": {},
   "outputs": [
    {
     "name": "stdout",
     "output_type": "stream",
     "text": [
      "[80, 284, 81, 59]\n",
      "[0, 270, 144, 99]\n",
      "[30, 191, 51, 46]\n",
      "[116, 98, 193, 171]\n"
     ]
    }
   ],
   "source": [
    "test = [[80, 284, 81, 59], [0, 270, 144, 99], [30, 191, 51, 46], [116, 98, 193, 171]]\n",
    "for i in test:\n",
    "    print(i)"
   ]
  },
  {
   "cell_type": "code",
   "execution_count": null,
   "metadata": {},
   "outputs": [],
   "source": []
  },
  {
   "cell_type": "code",
   "execution_count": null,
   "metadata": {},
   "outputs": [],
   "source": []
  },
  {
   "cell_type": "code",
   "execution_count": null,
   "metadata": {},
   "outputs": [],
   "source": []
  }
 ],
 "metadata": {
  "kernelspec": {
   "display_name": "Python 3",
   "language": "python",
   "name": "python3"
  },
  "language_info": {
   "codemirror_mode": {
    "name": "ipython",
    "version": 3
   },
   "file_extension": ".py",
   "mimetype": "text/x-python",
   "name": "python",
   "nbconvert_exporter": "python",
   "pygments_lexer": "ipython3",
   "version": "3.9.11"
  },
  "orig_nbformat": 4
 },
 "nbformat": 4,
 "nbformat_minor": 2
}
