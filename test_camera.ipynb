{
 "cells": [
  {
   "cell_type": "code",
   "execution_count": 1,
   "metadata": {},
   "outputs": [],
   "source": [
    "# import cv2\n",
    "# from vision_function import local_plate\n"
   ]
  },
  {
   "cell_type": "code",
   "execution_count": 4,
   "metadata": {},
   "outputs": [
    {
     "name": "stdout",
     "output_type": "stream",
     "text": [
      "2.12.1\n"
     ]
    }
   ],
   "source": [
    "# import tensorflow as tf\n",
    "# import tensorflow.keras.layers as nn\n",
    "# print(tf.__version__)"
   ]
  },
  {
   "cell_type": "code",
   "execution_count": 1,
   "metadata": {},
   "outputs": [
    {
     "name": "stderr",
     "output_type": "stream",
     "text": [
      "c:\\Users\\User\\code field\\Project\\Simple_TH_lisense_plate_recognition\\vision_function.py:162: SyntaxWarning: \"is not\" with a literal. Did you mean \"!=\"?\n",
      "  if rc_result is not \"none\" : read_char = read_char + str(rc_result) #read_char.append(rc_result)\n",
      "c:\\Users\\User\\code field\\Project\\Simple_TH_lisense_plate_recognition\\vision_function.py:162: SyntaxWarning: \"is not\" with a literal. Did you mean \"!=\"?\n",
      "  if rc_result is not \"none\" : read_char = read_char + str(rc_result) #read_char.append(rc_result)\n",
      "c:\\Users\\User\\code field\\Project\\Simple_TH_lisense_plate_recognition\\vision_function.py:162: SyntaxWarning: \"is not\" with a literal. Did you mean \"!=\"?\n",
      "  if rc_result is not \"none\" : read_char = read_char + str(rc_result) #read_char.append(rc_result)\n",
      "c:\\Users\\User\\code field\\Project\\Simple_TH_lisense_plate_recognition\\vision_function.py:162: SyntaxWarning: \"is not\" with a literal. Did you mean \"!=\"?\n",
      "  if rc_result is not \"none\" : read_char = read_char + str(rc_result) #read_char.append(rc_result)\n",
      "c:\\Users\\User\\code field\\Project\\Simple_TH_lisense_plate_recognition\\vision_function.py:162: SyntaxWarning: \"is not\" with a literal. Did you mean \"!=\"?\n",
      "  if rc_result is not \"none\" : read_char = read_char + str(rc_result) #read_char.append(rc_result)\n",
      "c:\\Users\\User\\code field\\Project\\Simple_TH_lisense_plate_recognition\\vision_function.py:162: SyntaxWarning: \"is not\" with a literal. Did you mean \"!=\"?\n",
      "  if rc_result is not \"none\" : read_char = read_char + str(rc_result) #read_char.append(rc_result)\n",
      "c:\\Users\\User\\code field\\Project\\Simple_TH_lisense_plate_recognition\\vision_function.py:162: SyntaxWarning: \"is not\" with a literal. Did you mean \"!=\"?\n",
      "  if rc_result is not \"none\" : read_char = read_char + str(rc_result) #read_char.append(rc_result)\n",
      "c:\\Users\\User\\code field\\Project\\Simple_TH_lisense_plate_recognition\\vision_function.py:162: SyntaxWarning: \"is not\" with a literal. Did you mean \"!=\"?\n",
      "  if rc_result is not \"none\" : read_char = read_char + str(rc_result) #read_char.append(rc_result)\n",
      "c:\\Users\\User\\code field\\Project\\Simple_TH_lisense_plate_recognition\\vision_function.py:162: SyntaxWarning: \"is not\" with a literal. Did you mean \"!=\"?\n",
      "  if rc_result is not \"none\" : read_char = read_char + str(rc_result) #read_char.append(rc_result)\n"
     ]
    },
    {
     "ename": "TypeError",
     "evalue": "unsupported operand type(s) for /: 'NoneType' and 'int'",
     "output_type": "error",
     "traceback": [
      "\u001b[1;31m---------------------------------------------------------------------------\u001b[0m",
      "\u001b[1;31mTypeError\u001b[0m                                 Traceback (most recent call last)",
      "\u001b[1;32mc:\\Users\\User\\code field\\Project\\Simple_TH_lisense_plate_recognition\\test_camera.ipynb Cell 3\u001b[0m in \u001b[0;36m<cell line: 13>\u001b[1;34m()\u001b[0m\n\u001b[0;32m     <a href='vscode-notebook-cell:/c%3A/Users/User/code%20field/Project/Simple_TH_lisense_plate_recognition/test_camera.ipynb#W2sZmlsZQ%3D%3D?line=17'>18</a>\u001b[0m \u001b[39mif\u001b[39;00m is_found:\n\u001b[0;32m     <a href='vscode-notebook-cell:/c%3A/Users/User/code%20field/Project/Simple_TH_lisense_plate_recognition/test_camera.ipynb#W2sZmlsZQ%3D%3D?line=18'>19</a>\u001b[0m     keep_cut_char , pure_plate_province \u001b[39m=\u001b[39m local_CP(img \u001b[39m=\u001b[39m crop_img[\u001b[39m0\u001b[39m], input_form\u001b[39m=\u001b[39m\u001b[39m\"\u001b[39m\u001b[39mIMG\u001b[39m\u001b[39m\"\u001b[39m)\n\u001b[1;32m---> <a href='vscode-notebook-cell:/c%3A/Users/User/code%20field/Project/Simple_TH_lisense_plate_recognition/test_camera.ipynb#W2sZmlsZQ%3D%3D?line=19'>20</a>\u001b[0m     result \u001b[39m=\u001b[39m read_plate(keep_cut_char,\u001b[39m\"\u001b[39;49m\u001b[39mnone\u001b[39;49m\u001b[39m\"\u001b[39;49m,mrc,is_gray\u001b[39m=\u001b[39;49m\u001b[39mFalse\u001b[39;49;00m)\n\u001b[0;32m     <a href='vscode-notebook-cell:/c%3A/Users/User/code%20field/Project/Simple_TH_lisense_plate_recognition/test_camera.ipynb#W2sZmlsZQ%3D%3D?line=20'>21</a>\u001b[0m     frame \u001b[39m=\u001b[39m cv2\u001b[39m.\u001b[39mputText(frame, \u001b[39mstr\u001b[39m(result), (coor[\u001b[39m0\u001b[39m][\u001b[39m2\u001b[39m],coor[\u001b[39m0\u001b[39m][\u001b[39m3\u001b[39m]), cv2\u001b[39m.\u001b[39mFONT_HERSHEY_SIMPLEX, \n\u001b[0;32m     <a href='vscode-notebook-cell:/c%3A/Users/User/code%20field/Project/Simple_TH_lisense_plate_recognition/test_camera.ipynb#W2sZmlsZQ%3D%3D?line=21'>22</a>\u001b[0m                \u001b[39m1\u001b[39m, (\u001b[39m0\u001b[39m, \u001b[39m255\u001b[39m, \u001b[39m0\u001b[39m), \u001b[39m2\u001b[39m, cv2\u001b[39m.\u001b[39mLINE_AA)\n\u001b[0;32m     <a href='vscode-notebook-cell:/c%3A/Users/User/code%20field/Project/Simple_TH_lisense_plate_recognition/test_camera.ipynb#W2sZmlsZQ%3D%3D?line=24'>25</a>\u001b[0m \u001b[39m# Display the resulting frame\u001b[39;00m\n",
      "File \u001b[1;32mc:\\Users\\User\\code field\\Project\\Simple_TH_lisense_plate_recognition\\vision_function.py:161\u001b[0m, in \u001b[0;36mread_plate\u001b[1;34m(list_char, province, rc, is_gray)\u001b[0m\n\u001b[0;32m    158\u001b[0m read_char \u001b[39m=\u001b[39m \u001b[39m\"\u001b[39m\u001b[39m\"\u001b[39m\n\u001b[0;32m    159\u001b[0m \u001b[39mfor\u001b[39;00m i \u001b[39min\u001b[39;00m list_char:\n\u001b[0;32m    160\u001b[0m     \u001b[39m# rc_result = tf.math.argmax(rc(process_img(i,Type='char'))[0])\u001b[39;00m\n\u001b[1;32m--> 161\u001b[0m     rc_result \u001b[39m=\u001b[39m to_char[\u001b[39mint\u001b[39m(index[\u001b[39mint\u001b[39m(tf\u001b[39m.\u001b[39mmath\u001b[39m.\u001b[39margmax(rc(process_img(i,Type\u001b[39m=\u001b[39;49m\u001b[39m'\u001b[39;49m\u001b[39mchar\u001b[39;49m\u001b[39m'\u001b[39;49m,is_gray\u001b[39m=\u001b[39;49mis_gray))[\u001b[39m0\u001b[39m]))])]\n\u001b[0;32m    162\u001b[0m     \u001b[39mif\u001b[39;00m rc_result \u001b[39mis\u001b[39;00m \u001b[39mnot\u001b[39;00m \u001b[39m\"\u001b[39m\u001b[39mnone\u001b[39m\u001b[39m\"\u001b[39m : read_char \u001b[39m=\u001b[39m read_char \u001b[39m+\u001b[39m \u001b[39mstr\u001b[39m(rc_result) \u001b[39m#read_char.append(rc_result)\u001b[39;00m\n\u001b[0;32m    163\u001b[0m \u001b[39mreturn\u001b[39;00m read_char\n",
      "File \u001b[1;32mc:\\Users\\User\\code field\\Project\\Simple_TH_lisense_plate_recognition\\vision_function.py:16\u001b[0m, in \u001b[0;36mprocess_img\u001b[1;34m(img, Type, is_gray)\u001b[0m\n\u001b[0;32m     14\u001b[0m \u001b[39mif\u001b[39;00m Type \u001b[39m==\u001b[39m \u001b[39m\"\u001b[39m\u001b[39mchar\u001b[39m\u001b[39m\"\u001b[39m :\n\u001b[0;32m     15\u001b[0m     ret,img \u001b[39m=\u001b[39m cv2\u001b[39m.\u001b[39mthreshold(img,\u001b[39m110\u001b[39m,\u001b[39m255\u001b[39m,cv2\u001b[39m.\u001b[39mTHRESH_BINARY)\n\u001b[1;32m---> 16\u001b[0m tensor \u001b[39m=\u001b[39m tf\u001b[39m.\u001b[39mconstant(img\u001b[39m/\u001b[39;49m\u001b[39m255\u001b[39;49m)\n\u001b[0;32m     17\u001b[0m tensor \u001b[39m=\u001b[39m tf\u001b[39m.\u001b[39mreshape(tensor, (tensor\u001b[39m.\u001b[39mshape[\u001b[39m0\u001b[39m],tensor\u001b[39m.\u001b[39mshape[\u001b[39m1\u001b[39m],\u001b[39m1\u001b[39m), name\u001b[39m=\u001b[39m\u001b[39mNone\u001b[39;00m)\n\u001b[0;32m     18\u001b[0m \u001b[39mif\u001b[39;00m Type \u001b[39m==\u001b[39m \u001b[39m\"\u001b[39m\u001b[39mplate\u001b[39m\u001b[39m\"\u001b[39m:\n",
      "\u001b[1;31mTypeError\u001b[0m: unsupported operand type(s) for /: 'NoneType' and 'int'"
     ]
    },
    {
     "ename": "",
     "evalue": "",
     "output_type": "error",
     "traceback": [
      "\u001b[1;31mThe Kernel crashed while executing code in the the current cell or a previous cell. Please review the code in the cell(s) to identify a possible cause of the failure. Click <a href='https://aka.ms/vscodeJupyterKernelCrash'>here</a> for more info. View Jupyter <a href='command:jupyter.viewOutput'>log</a> for further details."
     ]
    }
   ],
   "source": [
    "import cv2\n",
    "from vision_function import *\n",
    "# import tensorflow as tf\n",
    "# import tensorflow.keras.layers as nn\n",
    "import time\n",
    "\n",
    "#set up \n",
    "mlpc = get_model_mlpc() #define model lisense correct\n",
    "mrc = get_model_mrc()\n",
    "vid = cv2.VideoCapture(0, cv2.CAP_DSHOW) #define capture obj\n",
    "\n",
    "while(True):\n",
    "    start = time.time()\n",
    "    ret, frame = vid.read()\n",
    "    coor,crop_img,frame,is_found = local_plate(frame,\"IMG\",DCN_filter = True,Model = mlpc,detect_thresho=0.6)\n",
    "    for i in coor :\n",
    "        cv2.rectangle(frame, (i[2], i[3]), (i[2] + i[0], i[3] + i[1]), (36, 255, 12), 2)   #x y w h 0 1 2 3    w h x y 0 1 2 3 -- 2 3 0 1\n",
    "    if is_found:\n",
    "        keep_cut_char , pure_plate_province = local_CP(img = crop_img[0], input_form=\"IMG\")\n",
    "        result = read_plate(keep_cut_char,\"none\",mrc,is_gray=False)\n",
    "        frame = cv2.putText(frame, str(result), (coor[0][2],coor[0][3]), cv2.FONT_HERSHEY_SIMPLEX, \n",
    "                   1, (0, 255, 0), 2, cv2.LINE_AA)\n",
    "    \n",
    "    is_found == False\n",
    "    # Display the resulting frame\n",
    "    stop = time.time()\n",
    "    try : frame_rate = 1/(stop-start)\n",
    "    except : frame_rate = \"inf\"\n",
    "    frame = cv2.putText(frame, str(frame_rate), (50,50), cv2.FONT_HERSHEY_SIMPLEX, \n",
    "                   1, (0, 255, 0), 2, cv2.LINE_AA)\n",
    "    cv2.imshow('frame', frame)\n",
    "    \n",
    "    # if len(crop_img)>=1:\n",
    "        # cv2.imwrite(\"crop_real_3.jpg\",crop_img[0])\n",
    "    \n",
    "    # the 'q' button is set as the\n",
    "    # quitting button you may use any\n",
    "    # desired button of your choice\n",
    "    if cv2.waitKey(1) & 0xFF == ord('q'):\n",
    "        break\n",
    "\n",
    "# After the loop release the cap object\n",
    "vid.release()\n",
    "# Destroy all the windows\n",
    "cv2.destroyAllWindows()\n"
   ]
  },
  {
   "cell_type": "code",
   "execution_count": null,
   "metadata": {},
   "outputs": [
    {
     "name": "stdout",
     "output_type": "stream",
     "text": [
      "[80, 284, 81, 59]\n",
      "[0, 270, 144, 99]\n",
      "[30, 191, 51, 46]\n",
      "[116, 98, 193, 171]\n"
     ]
    }
   ],
   "source": [
    "test = [[80, 284, 81, 59], [0, 270, 144, 99], [30, 191, 51, 46], [116, 98, 193, 171]]\n",
    "for i in test:\n",
    "    print(i)"
   ]
  },
  {
   "cell_type": "code",
   "execution_count": null,
   "metadata": {},
   "outputs": [],
   "source": []
  },
  {
   "cell_type": "code",
   "execution_count": null,
   "metadata": {},
   "outputs": [],
   "source": []
  },
  {
   "cell_type": "code",
   "execution_count": null,
   "metadata": {},
   "outputs": [],
   "source": []
  }
 ],
 "metadata": {
  "kernelspec": {
   "display_name": "Python 3",
   "language": "python",
   "name": "python3"
  },
  "language_info": {
   "codemirror_mode": {
    "name": "ipython",
    "version": 3
   },
   "file_extension": ".py",
   "mimetype": "text/x-python",
   "name": "python",
   "nbconvert_exporter": "python",
   "pygments_lexer": "ipython3",
   "version": "3.9.11"
  },
  "orig_nbformat": 4
 },
 "nbformat": 4,
 "nbformat_minor": 2
}
