{
 "cells": [
  {
   "cell_type": "code",
   "execution_count": 2,
   "metadata": {},
   "outputs": [],
   "source": [
    "import cv2 \n",
    "import os"
   ]
  },
  {
   "cell_type": "code",
   "execution_count": 3,
   "metadata": {},
   "outputs": [],
   "source": [
    "#pre-process data positive\n",
    "PATH = \"My_dataset/train_img_lisense_plate_raw/Positive/\"\n",
    "All_Name = os.listdir(PATH)\n",
    "for name in  All_Name :\n",
    "    image = cv2.imread(PATH+name)\n",
    "    image = cv2.resize(image,[200,100])\n",
    "    gray = cv2.cvtColor(image, cv2.COLOR_BGR2GRAY)\n",
    "    cv2.imwrite(filename=\"My_dataset/train_img_lisense_plate/Positive/\"+str(name),img=gray)\n",
    "\n",
    "#pre-process data neative\n",
    "PATH = \"My_dataset/train_img_lisense_plate_raw/Negative/\"\n",
    "All_Name = os.listdir(PATH)\n",
    "for name in  All_Name :\n",
    "    image = cv2.imread(PATH+name)\n",
    "    image = cv2.resize(image,[200,100])\n",
    "    gray = cv2.cvtColor(image, cv2.COLOR_BGR2GRAY)\n",
    "    cv2.imwrite(filename=\"My_dataset/train_img_lisense_plate/Negative/\"+str(name),img=gray)\n",
    "\n"
   ]
  },
  {
   "cell_type": "code",
   "execution_count": null,
   "metadata": {},
   "outputs": [],
   "source": [
    "PATH =  \"My_dataset/Char_raw\"\n",
    "PATH_To = \"My_dataset/Char\"\n",
    "All_Name_char = os.listdir(PATH)\n",
    "for name_class in All_Name_char :\n",
    "    name_in_class = os.listdir(PATH+\"/\"+str(name_class))\n",
    "    for name in name_in_class :\n",
    "        path_read = PATH+\"/\"+name_class + \"/\" + name\n",
    "        # print(path_read)\n",
    "        image = cv2.imread(path_read)\n",
    "        image = cv2.resize(image,[100,200])\n",
    "        gray = cv2.cvtColor(image, cv2.COLOR_BGR2GRAY)\n",
    "        cv2.imwrite(filename=PATH_To+\"/\"+name_class+\"/\"+name ,img=gray)\n",
    "\n"
   ]
  },
  {
   "cell_type": "code",
   "execution_count": 5,
   "metadata": {},
   "outputs": [],
   "source": [
    "img = cv2.imread(\"crop_CP_test/2.jpg\")\n",
    "ret,thresh1 = cv2.threshold(img,140,255,cv2.THRESH_BINARY)"
   ]
  },
  {
   "cell_type": "code",
   "execution_count": 6,
   "metadata": {},
   "outputs": [
    {
     "data": {
      "text/plain": [
       "<matplotlib.image.AxesImage at 0x1abe8f231f0>"
      ]
     },
     "execution_count": 6,
     "metadata": {},
     "output_type": "execute_result"
    },
    {
     "data": {
      "image/png": "[encoded data removed]",
      "text/plain": [
       "<Figure size 640x480 with 1 Axes>"
      ]
     },
     "metadata": {},
     "output_type": "display_data"
    }
   ],
   "source": [
    "import matplotlib.pyplot as plt\n",
    "plt.imshow(thresh1)"
   ]
  },
  {
   "cell_type": "code",
   "execution_count": null,
   "metadata": {},
   "outputs": [],
   "source": []
  }
 ],
 "metadata": {
  "kernelspec": {
   "display_name": "Python 3",
   "language": "python",
   "name": "python3"
  },
  "language_info": {
   "codemirror_mode": {
    "name": "ipython",
    "version": 3
   },
   "file_extension": ".py",
   "mimetype": "text/x-python",
   "name": "python",
   "nbconvert_exporter": "python",
   "pygments_lexer": "ipython3",
   "version": "3.9.11"
  },
  "orig_nbformat": 4
 },
 "nbformat": 4,
 "nbformat_minor": 2
}
