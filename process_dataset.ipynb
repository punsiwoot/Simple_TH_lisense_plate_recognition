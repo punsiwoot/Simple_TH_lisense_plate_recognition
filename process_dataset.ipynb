{
 "cells": [
  {
   "cell_type": "code",
   "execution_count": 2,
   "metadata": {},
   "outputs": [],
   "source": [
    "import cv2 \n",
    "import os\n",
    "from vision_function import *"
   ]
  },
  {
   "cell_type": "code",
   "execution_count": 3,
   "metadata": {},
   "outputs": [],
   "source": [
    "#pre-process data positive\n",
    "PATH = \"My_dataset/train_img_lisense_plate_raw/Positive/\"\n",
    "All_Name = os.listdir(PATH)\n",
    "for name in  All_Name :\n",
    "    image = cv2.imread(PATH+name)\n",
    "    image = cv2.resize(image,[200,100])\n",
    "    gray = cv2.cvtColor(image, cv2.COLOR_BGR2GRAY)\n",
    "    cv2.imwrite(filename=\"My_dataset/train_img_lisense_plate/Positive/\"+str(name),img=gray)\n",
    "\n",
    "#pre-process data neative\n",
    "PATH = \"My_dataset/train_img_lisense_plate_raw/Negative/\"\n",
    "All_Name = os.listdir(PATH)\n",
    "for name in  All_Name :\n",
    "    image = cv2.imread(PATH+name)\n",
    "    image = cv2.resize(image,[200,100])\n",
    "    gray = cv2.cvtColor(image, cv2.COLOR_BGR2GRAY)\n",
    "    cv2.imwrite(filename=\"My_dataset/train_img_lisense_plate/Negative/\"+str(name),img=gray)\n",
    "\n"
   ]
  },
  {
   "cell_type": "code",
   "execution_count": 3,
   "metadata": {},
   "outputs": [],
   "source": [
    "PATH =  \"My_dataset/Char_raw\"\n",
    "PATH_To = \"My_dataset/Char\"\n",
    "All_Name_char = os.listdir(PATH)\n",
    "for name_class in All_Name_char :\n",
    "    name_in_class = os.listdir(PATH+\"/\"+str(name_class))\n",
    "    for name in name_in_class :\n",
    "        path_read = PATH+\"/\"+name_class + \"/\" + name\n",
    "        # print(path_read)\n",
    "        image = cv2.imread(path_read)\n",
    "        image = cv2.cvtColor(image, cv2.COLOR_BGR2GRAY)\n",
    "        #image_n\n",
    "        image_n = cv2.resize(image,[30,60])\n",
    "        image_n = cv2.resize(image_n,[100,200])\n",
    "        ret,image_n = cv2.threshold(image_n,110,255,cv2.THRESH_BINARY)\n",
    "        image_n = abs(255-image_n)\n",
    "\n",
    "        #image_sm\n",
    "        image_sm = cv2.resize(image,[20,40])\n",
    "        image_sm = cv2.resize(image_sm,[100,200])\n",
    "        ret,image_sm = cv2.threshold(image_sm,110,255,cv2.THRESH_BINARY)\n",
    "        image_sm = abs(255-image_sm)\n",
    "\n",
    "        #image_ro\n",
    "        image_ro1 = rotate_image(image_n,2)\n",
    "        image_ro2 = rotate_image(image_sm,2)\n",
    "        image_ro3 = rotate_image(image_n,4)\n",
    "        image_ro4 = rotate_image(image_sm,4)\n",
    "\n",
    "        image_ro5 = rotate_image(image_n,-2)\n",
    "        image_ro6 = rotate_image(image_sm,-2)\n",
    "        image_ro7 = rotate_image(image_n,-4)\n",
    "        image_ro8 = rotate_image(image_sm,-4)\n",
    "        \n",
    "\n",
    "\n",
    "        # ret,image_n = cv2.threshold(image_n,110,255,cv2.THRESH_BINARY)\n",
    "        # ret,image_sm = cv2.threshold(image_sm,110,255,cv2.THRESH_BINARY)\n",
    "\n",
    "        # ret,image_ro1 = cv2.threshold(image_ro1,110,255,cv2.THRESH_BINARY)\n",
    "        # ret,image_ro2 = cv2.threshold(image_ro2,110,255,cv2.THRESH_BINARY)\n",
    "        # ret,image_ro3 = cv2.threshold(image_ro3,110,255,cv2.THRESH_BINARY)\n",
    "        # ret,image_ro4 = cv2.threshold(image_ro4,110,255,cv2.THRESH_BINARY)\n",
    "        # ret,image_ro5 = cv2.threshold(image_ro5,110,255,cv2.THRESH_BINARY)\n",
    "        # ret,image_ro6 = cv2.threshold(image_ro6,110,255,cv2.THRESH_BINARY)\n",
    "        # ret,image_ro7 = cv2.threshold(image_ro7,110,255,cv2.THRESH_BINARY)\n",
    "        # ret,image_ro8 = cv2.threshold(image_ro8,110,255,cv2.THRESH_BINARY)\n",
    "\n",
    "\n",
    "        # plt.imshow(image_ro1)\n",
    "        # print(PATH_To+\"/\"+name_class+\"/n_\"+name)\n",
    "        cv2.imwrite(filename=PATH_To+\"/\"+name_class+\"/\"+name ,img=image_n)\n",
    "        cv2.imwrite(filename=PATH_To+\"/\"+name_class+\"/sm_\"+name ,img=image_sm)\n",
    "\n",
    "        cv2.imwrite(filename=PATH_To+\"/\"+name_class+\"/ro1_\"+name ,img=image_ro1)\n",
    "        cv2.imwrite(filename=PATH_To+\"/\"+name_class+\"/ro2_\"+name ,img=image_ro2)\n",
    "        cv2.imwrite(filename=PATH_To+\"/\"+name_class+\"/ro3_\"+name ,img=image_ro3)\n",
    "        cv2.imwrite(filename=PATH_To+\"/\"+name_class+\"/ro4_\"+name ,img=image_ro4)\n",
    "        cv2.imwrite(filename=PATH_To+\"/\"+name_class+\"/ro5_\"+name ,img=image_ro5)\n",
    "        cv2.imwrite(filename=PATH_To+\"/\"+name_class+\"/ro6_\"+name ,img=image_ro6)\n",
    "        cv2.imwrite(filename=PATH_To+\"/\"+name_class+\"/ro7_\"+name ,img=image_ro7)\n",
    "        cv2.imwrite(filename=PATH_To+\"/\"+name_class+\"/ro8_\"+name ,img=image_ro8)\n",
    "\n"
   ]
  },
  {
   "cell_type": "code",
   "execution_count": 65,
   "metadata": {},
   "outputs": [],
   "source": [
    "# img = cv2.imread(\"crop_CP_test/2.jpg\")\n",
    "img = cv2.imread(\"My_dataset/Char_raw/1/0.jpg\")\n",
    "img = cv2.cvtColor(img, cv2.COLOR_BGR2GRAY)\n",
    "ret,thresh1 = cv2.threshold(img,110,255,cv2.THRESH_BINARY)\n",
    "image = cv2.resize(thresh1,[100,200])\n",
    "image = abs(255-img)\n",
    "# image = rotate_image(image=image,angle=3)\n",
    "ret,image = cv2.threshold(image,110,255,cv2.THRESH_BINARY)"
   ]
  },
  {
   "cell_type": "code",
   "execution_count": 70,
   "metadata": {},
   "outputs": [
    {
     "data": {
      "text/plain": [
       "True"
      ]
     },
     "execution_count": 70,
     "metadata": {},
     "output_type": "execute_result"
    },
    {
     "data": {
      "image/png": "[encoded data removed]",
      "text/plain": [
       "<Figure size 640x480 with 1 Axes>"
      ]
     },
     "metadata": {},
     "output_type": "display_data"
    }
   ],
   "source": [
    "plt.imshow(image)\n",
    "image.shape\n",
    "cv2.imwrite(\"test_print_gray.png\",image)"
   ]
  },
  {
   "cell_type": "code",
   "execution_count": 67,
   "metadata": {},
   "outputs": [
    {
     "data": {
      "text/plain": [
       "<matplotlib.image.AxesImage at 0x1aab51c25e0>"
      ]
     },
     "execution_count": 67,
     "metadata": {},
     "output_type": "execute_result"
    },
    {
     "data": {
      "image/png": "[encoded data removed]",
      "text/plain": [
       "<Figure size 640x480 with 1 Axes>"
      ]
     },
     "metadata": {},
     "output_type": "display_data"
    }
   ],
   "source": [
    "import matplotlib.pyplot as plt\n",
    "plt.imshow(process_img(image,Type=\"char\",is_gray=False)[0])\n"
   ]
  },
  {
   "cell_type": "code",
   "execution_count": 68,
   "metadata": {},
   "outputs": [
    {
     "data": {
      "text/plain": [
       "(79, 40)"
      ]
     },
     "execution_count": 68,
     "metadata": {},
     "output_type": "execute_result"
    },
    {
     "data": {
      "image/png": "[encoded data removed]",
      "text/plain": [
       "<Figure size 640x480 with 1 Axes>"
      ]
     },
     "metadata": {},
     "output_type": "display_data"
    }
   ],
   "source": []
  },
  {
   "cell_type": "code",
   "execution_count": 6,
   "metadata": {},
   "outputs": [],
   "source": [
    "#preprocess province data\n",
    "\n",
    "PATH =  \"My_dataset/Province_raw\"\n",
    "PATH_To = \"My_dataset/Province\"\n",
    "All_Name_char = os.listdir(PATH)\n",
    "for name_class in All_Name_char :\n",
    "    name_in_class = os.listdir(PATH+\"/\"+str(name_class))\n",
    "    for name in name_in_class :\n",
    "        path_read = PATH+\"/\"+name_class + \"/\" + name\n",
    "        # print(path_read)\n",
    "        image = cv2.imread(path_read)\n",
    "        image = cv2.cvtColor(image, cv2.COLOR_BGR2GRAY)\n",
    "        ret,image = cv2.threshold(image,110,255,cv2.THRESH_BINARY)\n",
    "        image = abs(255-image)\n",
    "\n",
    "\n",
    "        #image_n\n",
    "        image_n = cv2.resize(image,[300,60])\n",
    "        image_n = cv2.resize(image_n,[500,100])\n",
    "        ret,image_n = cv2.threshold(image_n,110,255,cv2.THRESH_BINARY)\n",
    "        # image_n = abs(255-image_n)\n",
    "\n",
    "        #image_sm\n",
    "        image_sm = cv2.resize(image,[175,35])\n",
    "        image_sm = cv2.resize(image_sm,[500,100])\n",
    "        ret,image_sm = cv2.threshold(image_sm,110,255,cv2.THRESH_BINARY)\n",
    "        # image_sm = abs(255-image_sm)\n",
    "\n",
    "        #image_ro\n",
    "        image_ro1 = rotate_image(image,1)\n",
    "        image_ro1 = cv2.resize(image_ro1,[300,60])\n",
    "        image_ro1 = cv2.resize(image_ro1,[500,100])\n",
    "        ret,image_ro1 = cv2.threshold(image_ro1,110,255,cv2.THRESH_BINARY)\n",
    "        # image_ro1 = abs(255-image_ro1)\n",
    "\n",
    "        image_ro2 = rotate_image(image,1)\n",
    "        image_ro2 = cv2.resize(image_ro2,[175,35])\n",
    "        image_ro2 = cv2.resize(image_ro2,[500,100])\n",
    "        ret,image_ro2 = cv2.threshold(image_ro2,110,255,cv2.THRESH_BINARY)\n",
    "        # image_ro2 = abs(255-image_ro2)\n",
    "\n",
    "        image_ro3 = rotate_image(image,2)\n",
    "        image_ro3 = cv2.resize(image_ro3,[300,60])\n",
    "        image_ro3 = cv2.resize(image_ro3,[500,100])\n",
    "        ret,image_ro3 = cv2.threshold(image_ro3,110,255,cv2.THRESH_BINARY)\n",
    "        # image_ro3 = abs(255-image_ro3)\n",
    "\n",
    "        image_ro4 = rotate_image(image,2)\n",
    "        image_ro4 = cv2.resize(image_ro4,[175,35])\n",
    "        image_ro4 = cv2.resize(image_ro4,[500,100])\n",
    "        ret,image_ro4 = cv2.threshold(image_ro4,110,255,cv2.THRESH_BINARY)\n",
    "        # image_ro4 = abs(255-image_ro4)\n",
    "\n",
    "        image_ro5 = rotate_image(image,-1)\n",
    "        image_ro5 = cv2.resize(image_ro5,[300,60])\n",
    "        image_ro5 = cv2.resize(image_ro5,[500,100])\n",
    "        ret,image_ro5 = cv2.threshold(image_ro5,110,255,cv2.THRESH_BINARY)\n",
    "        # image_ro5 = abs(255-image_ro5)\n",
    "\n",
    "        image_ro6 = rotate_image(image,-1)\n",
    "        image_ro6 = cv2.resize(image_ro6,[175,35])\n",
    "        image_ro6 = cv2.resize(image_ro6,[500,100])\n",
    "        ret,image_ro6 = cv2.threshold(image_ro6,110,255,cv2.THRESH_BINARY)\n",
    "        # image_ro6 = abs(255-image_ro6)\n",
    "\n",
    "        image_ro7 = rotate_image(image,-2)\n",
    "        image_ro7 = cv2.resize(image_ro7,[300,60])\n",
    "        image_ro7 = cv2.resize(image_ro7,[500,100])\n",
    "        ret,image_ro7 = cv2.threshold(image_ro7,110,255,cv2.THRESH_BINARY)\n",
    "        # image_ro7 = abs(255-image_ro7)\n",
    "\n",
    "\n",
    "        image_ro8 = rotate_image(image,-2)\n",
    "        image_ro8 = cv2.resize(image_ro8,[175,35])\n",
    "        image_ro8 = cv2.resize(image_ro8,[500,100])\n",
    "        ret,image_ro8 = cv2.threshold(image_ro8,110,255,cv2.THRESH_BINARY)\n",
    "        # image_ro8 = abs(255-image_ro8)\n",
    "        \n",
    "\n",
    "\n",
    "        # ret,image_n = cv2.threshold(image_n,110,255,cv2.THRESH_BINARY)\n",
    "        # ret,image_sm = cv2.threshold(image_sm,110,255,cv2.THRESH_BINARY)\n",
    "\n",
    "        # ret,image_ro1 = cv2.threshold(image_ro1,110,255,cv2.THRESH_BINARY)\n",
    "        # ret,image_ro2 = cv2.threshold(image_ro2,110,255,cv2.THRESH_BINARY)\n",
    "        # ret,image_ro3 = cv2.threshold(image_ro3,110,255,cv2.THRESH_BINARY)\n",
    "        # ret,image_ro4 = cv2.threshold(image_ro4,110,255,cv2.THRESH_BINARY)\n",
    "        # ret,image_ro5 = cv2.threshold(image_ro5,110,255,cv2.THRESH_BINARY)\n",
    "        # ret,image_ro6 = cv2.threshold(image_ro6,110,255,cv2.THRESH_BINARY)\n",
    "        # ret,image_ro7 = cv2.threshold(image_ro7,110,255,cv2.THRESH_BINARY)\n",
    "        # ret,image_ro8 = cv2.threshold(image_ro8,110,255,cv2.THRESH_BINARY)\n",
    "\n",
    "\n",
    "        # plt.imshow(image_ro1)\n",
    "        # print(PATH_To+\"/\"+name_class+\"/n_\"+name)\n",
    "        cv2.imwrite(filename=PATH_To+\"/\"+name_class+\"/\"+name ,img=image_n)\n",
    "        cv2.imwrite(filename=PATH_To+\"/\"+name_class+\"/sm_\"+name ,img=image_sm)\n",
    "\n",
    "        cv2.imwrite(filename=PATH_To+\"/\"+name_class+\"/ro1_\"+name ,img=image_ro1)\n",
    "        cv2.imwrite(filename=PATH_To+\"/\"+name_class+\"/ro2_\"+name ,img=image_ro2)\n",
    "        cv2.imwrite(filename=PATH_To+\"/\"+name_class+\"/ro3_\"+name ,img=image_ro3)\n",
    "        cv2.imwrite(filename=PATH_To+\"/\"+name_class+\"/ro4_\"+name ,img=image_ro4)\n",
    "        cv2.imwrite(filename=PATH_To+\"/\"+name_class+\"/ro5_\"+name ,img=image_ro5)\n",
    "        cv2.imwrite(filename=PATH_To+\"/\"+name_class+\"/ro6_\"+name ,img=image_ro6)\n",
    "        cv2.imwrite(filename=PATH_To+\"/\"+name_class+\"/ro7_\"+name ,img=image_ro7)\n",
    "        cv2.imwrite(filename=PATH_To+\"/\"+name_class+\"/ro8_\"+name ,img=image_ro8)"
   ]
  },
  {
   "cell_type": "code",
   "execution_count": null,
   "metadata": {},
   "outputs": [],
   "source": []
  }
 ],
 "metadata": {
  "kernelspec": {
   "display_name": "Python 3",
   "language": "python",
   "name": "python3"
  },
  "language_info": {
   "codemirror_mode": {
    "name": "ipython",
    "version": 3
   },
   "file_extension": ".py",
   "mimetype": "text/x-python",
   "name": "python",
   "nbconvert_exporter": "python",
   "pygments_lexer": "ipython3",
   "version": "3.9.11"
  },
  "orig_nbformat": 4
 },
 "nbformat": 4,
 "nbformat_minor": 2
}
