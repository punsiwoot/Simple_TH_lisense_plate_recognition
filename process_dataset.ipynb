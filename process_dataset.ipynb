{
 "cells": [
  {
   "cell_type": "code",
   "execution_count": 2,
   "metadata": {},
   "outputs": [],
   "source": [
    "import cv2 \n",
    "import os"
   ]
  },
  {
   "cell_type": "code",
   "execution_count": 3,
   "metadata": {},
   "outputs": [],
   "source": [
    "#pre-process data positive\n",
    "PATH = \"My_dataset/train_img_lisense_plate_raw/Positive/\"\n",
    "All_Name = os.listdir(PATH)\n",
    "for name in  All_Name :\n",
    "    image = cv2.imread(PATH+name)\n",
    "    image = cv2.resize(image,[200,100])\n",
    "    gray = cv2.cvtColor(image, cv2.COLOR_BGR2GRAY)\n",
    "    cv2.imwrite(filename=\"My_dataset/train_img_lisense_plate/Positive/\"+str(name),img=gray)\n",
    "\n",
    "#pre-process data neative\n",
    "PATH = \"My_dataset/train_img_lisense_plate_raw/Negative/\"\n",
    "All_Name = os.listdir(PATH)\n",
    "for name in  All_Name :\n",
    "    image = cv2.imread(PATH+name)\n",
    "    image = cv2.resize(image,[200,100])\n",
    "    gray = cv2.cvtColor(image, cv2.COLOR_BGR2GRAY)\n",
    "    cv2.imwrite(filename=\"My_dataset/train_img_lisense_plate/Negative/\"+str(name),img=gray)\n",
    "\n"
   ]
  },
  {
   "cell_type": "code",
   "execution_count": null,
   "metadata": {},
   "outputs": [],
   "source": []
  }
 ],
 "metadata": {
  "kernelspec": {
   "display_name": "Python 3",
   "language": "python",
   "name": "python3"
  },
  "language_info": {
   "codemirror_mode": {
    "name": "ipython",
    "version": 3
   },
   "file_extension": ".py",
   "mimetype": "text/x-python",
   "name": "python",
   "nbconvert_exporter": "python",
   "pygments_lexer": "ipython3",
   "version": "3.10.4"
  },
  "orig_nbformat": 4
 },
 "nbformat": 4,
 "nbformat_minor": 2
}
